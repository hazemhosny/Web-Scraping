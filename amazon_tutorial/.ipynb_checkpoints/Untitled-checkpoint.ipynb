{
 "cells": [
  {
   "cell_type": "code",
   "execution_count": 32,
   "id": "0eb7784b-d96a-411f-a7db-2602b317788f",
   "metadata": {},
   "outputs": [
    {
     "name": "stdout",
     "output_type": "stream",
     "text": [
      "{'1': ['0', '1', '2', '3', '4'], '2': ['0', '1', '2', '3', '4']}\n"
     ]
    }
   ],
   "source": [
    "import csv\n",
    "\n",
    "items = {'1':[str(i) for i in range(0,5)], '2': [str(i) for i in range(0,5)]}\n",
    "print(items)\n",
    "fields = ['1','2']\n",
    "\n",
    "with open('output.csv','a+') as f: # handle the source file\n",
    "    f.write(\"{}\\n\".format('\\t'.join(str(field)for field in fields))) # write header \n",
    "#     for item in items:\n",
    "#         f.write(\"{}\\t{}\\n\".format(item,'\\t'.join(str(i) for i in items[item]))) # write items\n",
    "        \n",
    "    for i in range(len(items['1'])):\n",
    "        for item in items:\n",
    "            f.write(\"{}\\t\".format(str((items[item])[i]))) # write items\n",
    "        f.write(\"\\n\")"
   ]
  },
  {
   "cell_type": "code",
   "execution_count": 22,
   "id": "d8347019-5b0a-44ed-80da-3dcdf23e018e",
   "metadata": {},
   "outputs": [
    {
     "data": {
      "text/plain": [
       "'1'"
      ]
     },
     "execution_count": 22,
     "metadata": {},
     "output_type": "execute_result"
    }
   ],
   "source": [
    "items['1'][1]"
   ]
  },
  {
   "cell_type": "code",
   "execution_count": 51,
   "id": "92f0f45d-aea9-4f5b-b1f7-8514484f6afa",
   "metadata": {},
   "outputs": [
    {
     "name": "stdout",
     "output_type": "stream",
     "text": [
      "1\n",
      "0\n",
      "1\n",
      "2\n",
      "3\n",
      "4\n",
      "2\n",
      "0\n",
      "1\n",
      "2\n",
      "3\n",
      "4\n"
     ]
    }
   ],
   "source": [
    "for item in items:\n",
    "    print( item)\n",
    "    for value in items[item]:\n",
    "        print(value)"
   ]
  },
  {
   "cell_type": "code",
   "execution_count": 21,
   "id": "4d8d920d-5e1a-4afc-9aba-2ac4eb9d1b1f",
   "metadata": {},
   "outputs": [
    {
     "name": "stdout",
     "output_type": "stream",
     "text": [
      "5\n"
     ]
    }
   ],
   "source": [
    "print(len(items['1']))"
   ]
  },
  {
   "cell_type": "code",
   "execution_count": 17,
   "id": "1e183205-5c30-4aa1-a60f-27630a3ad78c",
   "metadata": {},
   "outputs": [],
   "source": [
    "import pandas as pd\n",
    "items = {'1':[str(i) for i in range(0,5)], '2': [str(i) for i in range(0,5)]}\n",
    "df = pd.DataFrame.from_dict(items)"
   ]
  },
  {
   "cell_type": "code",
   "execution_count": 18,
   "id": "3c9520ef-f20c-4ed2-b0b1-fabcc004625c",
   "metadata": {},
   "outputs": [
    {
     "data": {
      "text/html": [
       "<div>\n",
       "<style scoped>\n",
       "    .dataframe tbody tr th:only-of-type {\n",
       "        vertical-align: middle;\n",
       "    }\n",
       "\n",
       "    .dataframe tbody tr th {\n",
       "        vertical-align: top;\n",
       "    }\n",
       "\n",
       "    .dataframe thead th {\n",
       "        text-align: right;\n",
       "    }\n",
       "</style>\n",
       "<table border=\"1\" class=\"dataframe\">\n",
       "  <thead>\n",
       "    <tr style=\"text-align: right;\">\n",
       "      <th></th>\n",
       "      <th>1</th>\n",
       "      <th>2</th>\n",
       "    </tr>\n",
       "  </thead>\n",
       "  <tbody>\n",
       "    <tr>\n",
       "      <th>0</th>\n",
       "      <td>0</td>\n",
       "      <td>0</td>\n",
       "    </tr>\n",
       "    <tr>\n",
       "      <th>1</th>\n",
       "      <td>1</td>\n",
       "      <td>1</td>\n",
       "    </tr>\n",
       "    <tr>\n",
       "      <th>2</th>\n",
       "      <td>2</td>\n",
       "      <td>2</td>\n",
       "    </tr>\n",
       "    <tr>\n",
       "      <th>3</th>\n",
       "      <td>3</td>\n",
       "      <td>3</td>\n",
       "    </tr>\n",
       "    <tr>\n",
       "      <th>4</th>\n",
       "      <td>4</td>\n",
       "      <td>4</td>\n",
       "    </tr>\n",
       "  </tbody>\n",
       "</table>\n",
       "</div>"
      ],
      "text/plain": [
       "   1  2\n",
       "0  0  0\n",
       "1  1  1\n",
       "2  2  2\n",
       "3  3  3\n",
       "4  4  4"
      ]
     },
     "execution_count": 18,
     "metadata": {},
     "output_type": "execute_result"
    }
   ],
   "source": [
    "df"
   ]
  },
  {
   "cell_type": "code",
   "execution_count": 19,
   "id": "bc6619d4-5359-41e8-9ee6-25fbdf69fbce",
   "metadata": {},
   "outputs": [],
   "source": [
    "df.to_csv('outputpd.csv', index=False)"
   ]
  },
  {
   "cell_type": "code",
   "execution_count": 26,
   "id": "7308610b-2ddd-4200-a758-77ff1fbb0adb",
   "metadata": {},
   "outputs": [
    {
     "name": "stdout",
     "output_type": "stream",
     "text": [
      "<generator object exp_ at 0x000001BC0C76CC80>\n"
     ]
    }
   ],
   "source": [
    "def exp_(dictt):\n",
    "    yield dictt\n",
    "    \n",
    "print(exp_(items))"
   ]
  },
  {
   "cell_type": "code",
   "execution_count": 27,
   "id": "dc2eed6b-441b-4b03-8147-9a4eb81e128f",
   "metadata": {},
   "outputs": [
    {
     "name": "stdout",
     "output_type": "stream",
     "text": [
      "{'1': ['0', '1', '2', '3', '4'], '2': ['0', '1', '2', '3', '4']}\n"
     ]
    }
   ],
   "source": [
    "for i in exp_(items):\n",
    "    print(i)"
   ]
  },
  {
   "cell_type": "code",
   "execution_count": null,
   "id": "dde215fb-f372-4917-a28f-c52104bc3618",
   "metadata": {},
   "outputs": [],
   "source": []
  }
 ],
 "metadata": {
  "kernelspec": {
   "display_name": "Python 3",
   "language": "python",
   "name": "python3"
  },
  "language_info": {
   "codemirror_mode": {
    "name": "ipython",
    "version": 3
   },
   "file_extension": ".py",
   "mimetype": "text/x-python",
   "name": "python",
   "nbconvert_exporter": "python",
   "pygments_lexer": "ipython3",
   "version": "3.8.8"
  }
 },
 "nbformat": 4,
 "nbformat_minor": 5
}
