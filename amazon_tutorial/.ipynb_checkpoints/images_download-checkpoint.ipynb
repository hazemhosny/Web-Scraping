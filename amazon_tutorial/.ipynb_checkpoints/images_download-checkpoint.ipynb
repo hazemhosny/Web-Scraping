{
 "cells": [
  {
   "cell_type": "code",
   "execution_count": 1,
   "id": "74809459-c1f4-48d6-8bdd-8f6ebeb1bfdd",
   "metadata": {},
   "outputs": [
    {
     "data": {
      "text/html": [
       "<div>\n",
       "<style scoped>\n",
       "    .dataframe tbody tr th:only-of-type {\n",
       "        vertical-align: middle;\n",
       "    }\n",
       "\n",
       "    .dataframe tbody tr th {\n",
       "        vertical-align: top;\n",
       "    }\n",
       "\n",
       "    .dataframe thead th {\n",
       "        text-align: right;\n",
       "    }\n",
       "</style>\n",
       "<table border=\"1\" class=\"dataframe\">\n",
       "  <thead>\n",
       "    <tr style=\"text-align: right;\">\n",
       "      <th></th>\n",
       "      <th>product_title</th>\n",
       "      <th>product_price</th>\n",
       "      <th>product_imageLink</th>\n",
       "      <th>product_hyperLink</th>\n",
       "    </tr>\n",
       "  </thead>\n",
       "  <tbody>\n",
       "    <tr>\n",
       "      <th>0</th>\n",
       "      <td>LincPlus Schoolbook 14\" Laptop, Full HD 1920 x...</td>\n",
       "      <td>265</td>\n",
       "      <td>https://m.media-amazon.com/images/I/712c4sMo0Y...</td>\n",
       "      <td>/gp/slredirect/picassoRedirect.html/ref=pa_sp_...</td>\n",
       "    </tr>\n",
       "    <tr>\n",
       "      <th>1</th>\n",
       "      <td>Dell Latitude E6520 Intel i7-2720QM 2.20Ghz 8G...</td>\n",
       "      <td>295</td>\n",
       "      <td>https://m.media-amazon.com/images/I/71eD2hUDXM...</td>\n",
       "      <td>/gp/slredirect/picassoRedirect.html/ref=pa_sp_...</td>\n",
       "    </tr>\n",
       "    <tr>\n",
       "      <th>2</th>\n",
       "      <td>Lenovo Chromebook Flex 3 11\" Laptop, 11.6-Inch...</td>\n",
       "      <td>169</td>\n",
       "      <td>https://m.media-amazon.com/images/I/611DJR7V1s...</td>\n",
       "      <td>/Lenovo-Chromebook-11-6-Inch-Processor-82HG000...</td>\n",
       "    </tr>\n",
       "    <tr>\n",
       "      <th>3</th>\n",
       "      <td>Lenovo Chromebook C330 2-in-1 Convertible Lapt...</td>\n",
       "      <td>227</td>\n",
       "      <td>https://m.media-amazon.com/images/I/812MizmMvk...</td>\n",
       "      <td>/Lenovo-Chromebook-Convertible-11-6-Inch-81HY0...</td>\n",
       "    </tr>\n",
       "    <tr>\n",
       "      <th>4</th>\n",
       "      <td>Acer Aspire 5 A515-46-R14K Slim Laptop | 15.6\"...</td>\n",
       "      <td>399</td>\n",
       "      <td>https://m.media-amazon.com/images/I/71+2H96GHZ...</td>\n",
       "      <td>/Acer-A515-46-R14K-Quad-Core-Processor-Backlit...</td>\n",
       "    </tr>\n",
       "  </tbody>\n",
       "</table>\n",
       "</div>"
      ],
      "text/plain": [
       "                                       product_title product_price  \\\n",
       "0  LincPlus Schoolbook 14\" Laptop, Full HD 1920 x...           265   \n",
       "1  Dell Latitude E6520 Intel i7-2720QM 2.20Ghz 8G...           295   \n",
       "2  Lenovo Chromebook Flex 3 11\" Laptop, 11.6-Inch...           169   \n",
       "3  Lenovo Chromebook C330 2-in-1 Convertible Lapt...           227   \n",
       "4  Acer Aspire 5 A515-46-R14K Slim Laptop | 15.6\"...           399   \n",
       "\n",
       "                                   product_imageLink  \\\n",
       "0  https://m.media-amazon.com/images/I/712c4sMo0Y...   \n",
       "1  https://m.media-amazon.com/images/I/71eD2hUDXM...   \n",
       "2  https://m.media-amazon.com/images/I/611DJR7V1s...   \n",
       "3  https://m.media-amazon.com/images/I/812MizmMvk...   \n",
       "4  https://m.media-amazon.com/images/I/71+2H96GHZ...   \n",
       "\n",
       "                                   product_hyperLink  \n",
       "0  /gp/slredirect/picassoRedirect.html/ref=pa_sp_...  \n",
       "1  /gp/slredirect/picassoRedirect.html/ref=pa_sp_...  \n",
       "2  /Lenovo-Chromebook-11-6-Inch-Processor-82HG000...  \n",
       "3  /Lenovo-Chromebook-Convertible-11-6-Inch-81HY0...  \n",
       "4  /Acer-A515-46-R14K-Quad-Core-Processor-Backlit...  "
      ]
     },
     "execution_count": 1,
     "metadata": {},
     "output_type": "execute_result"
    }
   ],
   "source": [
    "import pandas as pd\n",
    "import requests\n",
    "\n",
    "df = pd.read_csv('output.csv')\n",
    "df.head()"
   ]
  },
  {
   "cell_type": "code",
   "execution_count": 2,
   "id": "f07fa187-7b0e-4fa4-9b4c-6d095c256281",
   "metadata": {},
   "outputs": [],
   "source": [
    "# header for keeping connection and user-agent for acessing amazon.com\n",
    "headers = {\n",
    "    \"User-Agent\": \"Mozilla/5.0 (compatible; Googlebot/2.1; +http://www.google.com/bot.html)\",\n",
    "    \"Accept-Encoding\": \"*\",\n",
    "    \"Connection\": \"keep-alive\"\n",
    "}\n",
    "# download first 100 images if want all change 100 to len(df)\n",
    "for i in range(100):\n",
    "    response = requests.get(df.product_imageLink.iloc[i], headers=headers)\n",
    "    file = open(f\"images_data/sample_image{i}.png\", \"wb\")\n",
    "    file.write(response.content)\n",
    "    file.close()"
   ]
  },
  {
   "cell_type": "code",
   "execution_count": null,
   "id": "798d85af-74ea-4614-bffc-c567dca1ed4b",
   "metadata": {},
   "outputs": [],
   "source": []
  }
 ],
 "metadata": {
  "kernelspec": {
   "display_name": "Python 3",
   "language": "python",
   "name": "python3"
  },
  "language_info": {
   "codemirror_mode": {
    "name": "ipython",
    "version": 3
   },
   "file_extension": ".py",
   "mimetype": "text/x-python",
   "name": "python",
   "nbconvert_exporter": "python",
   "pygments_lexer": "ipython3",
   "version": "3.8.8"
  }
 },
 "nbformat": 4,
 "nbformat_minor": 5
}
